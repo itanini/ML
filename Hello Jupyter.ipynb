{
 "cells": [
  {
   "cell_type": "markdown",
   "metadata": {},
   "source": [
    "# Jupyter\n",
    "***\n",
    "<img src=\"https://miro.medium.com/max/518/1*FogMIj4gYwp3fTHLZuwavQ.png\" width=\"200\" height=\"200\" >    \n",
    "\n",
    "## What is Jupyter?\n",
    "The Jupyter Notebook App is a server-client application that allows editing and running notebook documents via a web browser. In practice, it enables you to write code along side **rich** *text*, equations $H(X) = \\sum_i p(x_i) \\cdot log(p(x_i))$, images and more.\n",
    "## Why Jupyter?\n",
    "The names comes from Julia, python and r which were the first languages supported by the Jupyter app.\n",
    "## Why do we care?\n",
    "One of the most important tools for a data science. Allows you to easily analyze, explore and manipulate data as well as sharing insights in a convenient way. Currently, it is an industry and academic standard for prototyping and research. [Notebook Example](https://www.kaggle.com/heesoo37/boston-crimes-starter-eda)\n",
    "\n",
    "## Let's explore\n",
    "***\n",
    "Press shift-enter to run the cell below (You can also use the run `>| Run` button from the menu above, but get used to using shift-enter)"
   ]
  },
  {
   "cell_type": "code",
   "execution_count": null,
   "metadata": {},
   "outputs": [],
   "source": [
    "print(\"Hello Jupyter!\")"
   ]
  },
  {
   "cell_type": "markdown",
   "metadata": {},
   "source": [
    "As you can see, once you run the cell you get the output right below the executed cell.    \n",
    "When you run the cell below you'll notice the exact same behavior."
   ]
  },
  {
   "cell_type": "code",
   "execution_count": null,
   "metadata": {},
   "outputs": [],
   "source": [
    "print('I love python')"
   ]
  },
  {
   "cell_type": "markdown",
   "metadata": {},
   "source": [
    "## Code cell and Markdown cell\n",
    "***\n",
    "As you probably noticed we have 2 kinds of cells in our notebook:\n",
    "1. Code cell which we can write and execute python code.\n",
    "1. Rich text cell where we can put text, images and more.    \n",
    "Here is a nice blog explaining the different kind of markdown you can use in text cells [Markdown tips](https://medium.com/ibm-data-science-experience/markdown-for-jupyter-notebooks-cheatsheet-386c05aeebed)\n",
    "\n",
    "Try changing the text below to a headline. add # before the text"
   ]
  },
  {
   "cell_type": "markdown",
   "metadata": {},
   "source": [
    "Change me to a headline!"
   ]
  },
  {
   "cell_type": "markdown",
   "metadata": {},
   "source": [
    "### Additional cells\n",
    "To add cell to the notebook you can either use the `insert` button from the menu or press a (above) / b(below)   \n",
    "if you are not in editing mode. Try adding a cell below."
   ]
  },
  {
   "cell_type": "markdown",
   "metadata": {},
   "source": [
    "## Sequence of operations\n",
    "***\n",
    "Every time you run a cell, the code inside of it is being executed by the notebook __kernel__.   \n",
    "In our case that is the __python interpeter__.    \n",
    "Notice the 2 cells below : \n",
    "1. We define the variable `x` and set it's value to 10\n",
    "1. We print out `x`.  \n",
    "\n",
    "Try to run the second cell without the first."
   ]
  },
  {
   "cell_type": "code",
   "execution_count": null,
   "metadata": {},
   "outputs": [],
   "source": [
    "x = 10"
   ]
  },
  {
   "cell_type": "code",
   "execution_count": null,
   "metadata": {},
   "outputs": [],
   "source": [
    "print(x)"
   ]
  },
  {
   "cell_type": "markdown",
   "metadata": {},
   "source": [
    "As you see, you got a NameError, because although you \"defined\" `x` in the cell above you did not run the cell yet.   \n",
    "It is confusing but very important.    \n",
    "In a python script the order of execution is by the order in which the code is written. In the Jupyter notebook the order of execution depends on you, and the order in which you execute the cells.   \n",
    "   \n",
    "run the cell above with `x=10` and then the cell below again.\n",
    "\n",
    "# What can we do in the notebook?\n",
    "***\n",
    "Everything you can run in a python script you can put inside a cell.   \n",
    "Below are examples of imports and a function and a class."
   ]
  },
  {
   "cell_type": "markdown",
   "metadata": {},
   "source": [
    "### Imports"
   ]
  },
  {
   "cell_type": "code",
   "execution_count": null,
   "metadata": {},
   "outputs": [],
   "source": [
    "import numpy as np\n",
    "import pandas as pd\n",
    "import os"
   ]
  },
  {
   "cell_type": "code",
   "execution_count": null,
   "metadata": {},
   "outputs": [],
   "source": [
    "np.__version__"
   ]
  },
  {
   "cell_type": "markdown",
   "metadata": {},
   "source": [
    "### Functions and Classes"
   ]
  },
  {
   "cell_type": "code",
   "execution_count": null,
   "metadata": {},
   "outputs": [],
   "source": [
    "def foo():\n",
    "    print(\"I've created a function\")\n",
    "    \n",
    "class Goo():\n",
    "    def __init__(self):\n",
    "        print(\"I've just created a goo object!\")\n",
    "        \n",
    "    def prove_living(self):\n",
    "        print(\"I'm Alive!\")"
   ]
  },
  {
   "cell_type": "code",
   "execution_count": null,
   "metadata": {},
   "outputs": [],
   "source": [
    "# Let's call our foo functions\n",
    "foo()"
   ]
  },
  {
   "cell_type": "code",
   "execution_count": null,
   "metadata": {},
   "outputs": [],
   "source": [
    "# Let's create a Goo object\n",
    "g = Goo()\n",
    "g.prove_living()"
   ]
  },
  {
   "cell_type": "markdown",
   "metadata": {},
   "source": [
    "## Last line print\n",
    "The notebook interpreter prints the value of the last line of code in a cell.   \n",
    "This means it will print out if the last statement in the cell has any value"
   ]
  },
  {
   "cell_type": "code",
   "execution_count": null,
   "metadata": {},
   "outputs": [],
   "source": [
    "greeting = 'hello jupyter, nice to meet you'\n",
    "greeting"
   ]
  },
  {
   "cell_type": "markdown",
   "metadata": {},
   "source": [
    "So if a value is the __last line__ of code it will be printed out to the notebook.   \n",
    "Since assignment statements have no value they do not print anything."
   ]
  },
  {
   "cell_type": "code",
   "execution_count": null,
   "metadata": {},
   "outputs": [],
   "source": [
    "greeting\n",
    "gretting = 'Hello Jupyter, pleasure to see you again'"
   ]
  },
  {
   "cell_type": "markdown",
   "metadata": {},
   "source": [
    "As you can see, nothing got printed. The last line in cell is an assignment and it has no value thus nothing is printed out."
   ]
  },
  {
   "cell_type": "markdown",
   "metadata": {},
   "source": [
    "## Getting help\n",
    "***\n",
    "### code completion\n",
    "- As you type code you can hit the tab key to try and auto-complete your current word. Try writing greet and then press the tab key.    \n",
    "- As you pass arguments to a function you can press shift+tab to get the function documentation.\n"
   ]
  },
  {
   "cell_type": "code",
   "execution_count": null,
   "metadata": {},
   "outputs": [],
   "source": [
    "# Try code completion on greeting\n",
    "\n",
    "# Try getting the function docs of isinstance:\n",
    "isinstance()"
   ]
  },
  {
   "cell_type": "markdown",
   "metadata": {},
   "source": [
    "### documentation\n",
    "If you have a function or a Class which your not sure how or when to use, you can get help(documentation) in the notebook. You have 2 options for that:\n",
    "1. Calling help (function) - This will print out the documentation in the output of the cell.\n",
    "1. Calling function? - This will open a window at the bottom of the screen with the documentation in it."
   ]
  },
  {
   "cell_type": "code",
   "execution_count": null,
   "metadata": {},
   "outputs": [],
   "source": [
    "help(print)"
   ]
  },
  {
   "cell_type": "code",
   "execution_count": null,
   "metadata": {},
   "outputs": [],
   "source": [
    "print?"
   ]
  },
  {
   "cell_type": "markdown",
   "metadata": {},
   "source": [
    "# Magic commands\n",
    "***\n",
    "The Jupyter notebooks have built in magic commands which enable all kind of useful functionality you can use."
   ]
  },
  {
   "cell_type": "code",
   "execution_count": null,
   "metadata": {},
   "outputs": [],
   "source": [
    "%lsmagic"
   ]
  },
  {
   "cell_type": "code",
   "execution_count": null,
   "metadata": {
    "code_folding": []
   },
   "outputs": [],
   "source": [
    "def long_multiplication():\n",
    "    for i in range(10_000_000):\n",
    "        i ** 2\n",
    "\n",
    "# The %time magic commands for example measures the time it took to execute a function.\n",
    "%time long_multiplication()"
   ]
  }
 ],
 "metadata": {
  "kernelspec": {
   "display_name": "Python 3",
   "language": "python",
   "name": "python3"
  },
  "language_info": {
   "codemirror_mode": {
    "name": "ipython",
    "version": 3
   },
   "file_extension": ".py",
   "mimetype": "text/x-python",
   "name": "python",
   "nbconvert_exporter": "python",
   "pygments_lexer": "ipython3",
   "version": "3.7.6"
  },
  "varInspector": {
   "cols": {
    "lenName": 16,
    "lenType": 16,
    "lenVar": 40
   },
   "kernels_config": {
    "python": {
     "delete_cmd_postfix": "",
     "delete_cmd_prefix": "del ",
     "library": "var_list.py",
     "varRefreshCmd": "print(var_dic_list())"
    },
    "r": {
     "delete_cmd_postfix": ") ",
     "delete_cmd_prefix": "rm(",
     "library": "var_list.r",
     "varRefreshCmd": "cat(var_dic_list()) "
    }
   },
   "types_to_exclude": [
    "module",
    "function",
    "builtin_function_or_method",
    "instance",
    "_Feature"
   ],
   "window_display": false
  }
 },
 "nbformat": 4,
 "nbformat_minor": 2
}
